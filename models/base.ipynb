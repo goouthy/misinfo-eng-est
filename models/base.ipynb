{
 "cells": [
  {
   "cell_type": "markdown",
   "metadata": {},
   "source": [
    "paraphrase-multilingual-mpnet-base-v2: https://huggingface.co/sentence-transformers/paraphrase-multilingual-mpnet-base-v2\n",
    "\n",
    "\n",
    "Notes: understands negatives, wprks well with paragraphs."
   ]
  },
  {
   "cell_type": "code",
   "execution_count": 7,
   "metadata": {},
   "outputs": [],
   "source": [
    "from sklearn.metrics.pairwise import cosine_similarity\n",
    "import numpy as np"
   ]
  },
  {
   "cell_type": "code",
   "execution_count": 6,
   "metadata": {},
   "outputs": [
    {
     "name": "stdout",
     "output_type": "stream",
     "text": [
      "[[ 0.16162977  0.03671754 -0.01182504 ...  0.06023525 -0.046546\n",
      "  -0.00489239]\n",
      " [ 0.14103319 -0.00583408 -0.02008203 ...  0.06081032  0.00559087\n",
      "   0.02172683]]\n",
      "[[ 0.16162977  0.03671754 -0.01182504 ...  0.06023525 -0.046546\n",
      "  -0.00489239]\n",
      " [ 0.15966201  0.17779085 -0.01652543 ... -0.04825359  0.07159035\n",
      "   0.10724679]]\n"
     ]
    }
   ],
   "source": [
    "from sentence_transformers import SentenceTransformer\n",
    "model = SentenceTransformer('sentence-transformers/paraphrase-multilingual-mpnet-base-v2')\n",
    "\n",
    "sentences1 = [\"Ginger helps cure cancer.\", \"Ingver aitab ravida vähki.\"]\n",
    "embeddings1 = model.encode(sentences1)\n",
    "print(embeddings1)\n",
    "\n",
    "sentences2 = [\"Ginger helps cure cancer.\", \"Ingver ei aita ravida vähki.\"]\n",
    "embeddings2 = model.encode(sentences2)\n",
    "print(embeddings2)"
   ]
  },
  {
   "cell_type": "code",
   "execution_count": 8,
   "metadata": {},
   "outputs": [
    {
     "name": "stdout",
     "output_type": "stream",
     "text": [
      "Cosine Similarity Matrix:\n",
      "[[0.9999999  0.75208694]\n",
      " [0.75208694 0.9999998 ]]\n"
     ]
    }
   ],
   "source": [
    "# Ginger helps cure cancer. + Ingver aitab ravida vähki.\n",
    "\n",
    "vectors_matrix1 = np.array([embeddings1[0], embeddings1[1]])\n",
    "\n",
    "similarity_matrix1 = cosine_similarity(vectors_matrix1)\n",
    "\n",
    "print(\"Cosine Similarity Matrix:\")\n",
    "print(similarity_matrix1)"
   ]
  },
  {
   "cell_type": "code",
   "execution_count": 10,
   "metadata": {},
   "outputs": [
    {
     "name": "stdout",
     "output_type": "stream",
     "text": [
      "Cosine Similarity Matrix:\n",
      "[[0.9999999  0.46457195]\n",
      " [0.46457195 1.        ]]\n"
     ]
    }
   ],
   "source": [
    "# Ginger helps cure cancer. + Ingver ei aita ravida vähki.\n",
    "\n",
    "vectors_matrix2 = np.array([embeddings2[0], embeddings2[1]])\n",
    "\n",
    "similarity_matrix2 = cosine_similarity(vectors_matrix2)\n",
    "\n",
    "print(\"Cosine Similarity Matrix:\")\n",
    "print(similarity_matrix2)"
   ]
  },
  {
   "cell_type": "markdown",
   "metadata": {},
   "source": [
    "Additional testing with paragraphs."
   ]
  },
  {
   "cell_type": "code",
   "execution_count": 13,
   "metadata": {},
   "outputs": [],
   "source": [
    "# first paragraph from snippet\n",
    "# second, snippet translated to eng\n",
    "# third, eng snippet text shuffled\n",
    "# fourth, unrelated parangraph\n",
    "\n",
    "first = \"Olgugi et Tallinna Halduskohus on tunnistanud vaktsiinisunni kaitseväes õigusvastaseks, toonitas Martin Herem kõigile kaitseväe teenistujatele saadetud kirjas, et koroonavaktsiinide manustamine on jätkuvalt teenistuse jätkamise eelduseks ehk kõik teenistujad, kes ei lase endale uut vaktsiinidoosi süstida, peavad kaitseväest lahkuma.\\nKaitseväe juhataja Martin Herem saatis 6. oktoobril kaitseväe siselisti kaudu laiali kirja, milles informeeris kõiki alluvaid oma otsusest nõuda kõigilt kaitseväe teenistujatelt jätkuvalt Covid-19 vaktsiinide manustamist teenistuse jätkamise eeldusena.\\nKuigi Tallinna Halduskohus tunnistas oma 30. augusti\\xa0otsusega\\xa0vaktsineerimiskohustusele mitteallunud kaitseväe teenistujate ametist vabastamise õigusvastaseks, annab Herem koha oma kirja pealkirjas teada, et kaitsevägi nõuab endiselt vaktsineerimistõendi esitamist.\\nKohe kirja alguses kinnitab Herem, et kaitseväe juhtkonnal ei ole kavatsust vaktsineerimiskohustusest loobuda. Kaitsevägi on nõudnud oma teenistujatelt kehtivat COVID-19 vaktsineerimistõendit. See nõue kehtib ka praegu. Ehkki on olnud spekulatsioone, et nõue tühistatakse, siis arvestades kaitseväe teenistuse eripära, ei ole sellist otsust vastu võetud, kirjutab ta.\\nHeremi sõnul jätkatakse vaktsineerimiskohustusega ennekõike kahel põhjusel, milleks on suhtlus välisriikidega (õppused, koolitused, lähetused, välisoperatsioonid, töögrupid jms) ja lahingvalmiduse tagamine igal ajahetkel. Herem on jätkuvalt seisukohal, et regulaarne Covid-19 vaktsiinide süstimine kõigisse kaitseväe teenistujatesse on kaitseväe lahinguvalmiduse eelduseks. Vaktsineerimine aitab seda tagada, märgib ta otsesõnu.\\nKaitseväe teenistujatele saadetud kirjas selgitab Herem pikalt oma nägemust sellest, miks kaitsevägi on vajanud ja vajab jätkuvalt vaktsineerimiskohustust. Peamiselt on see tema sõnul vajalik selleks, et võimalikult vähe inimesi jääks Covid-19-ga nakatumise tõttu teenistusülesannete täitmisest kõrvale. Heremi sõnul näitab kaitseväe riskianalüüs endiselt, et kõigilt teenistujatelt Covid-19 vaktsiinide regulaarse manustamise nõudmine on ainuke vahend, millega on võimalik nimetatud eesmärki saavutada.\\nÜhtlasi selgitab Herem, et Covid-19 vaktsiinide massiline manustamine ei ole toonud kaitseväes kaasa märkimisväärseid soovimatuid kõrvaltoimeid.Mul puudub info, et vaktsineerimise tulemusel oleks kellelgi kaitseväest tekkinud pikaajalised või püsivad kahjustused, kirjutab ta ja lisab, et kaitsevägi on teinud valitsemisalas kokku 11 047 doosi koroonavaktsiini ja tõsisemaid kõrvaltoimeid on isikute poolt tagasi raporteeritud vaid kolmel juhul.\\nKriitikat, et Tallinna Halduskohtu poolt ka vaktsiinisunniks nimetatud vaktsineerimiskohustuse kehtestamine on vastuolus põhiseaduslike õigustega, Herem omaks ei võta, selgitades et kaitseväge tuleb vaadata laiemalt. Tõenäoliselt leiab õiguste piiramist igal sammul, märgib Herem ja lisab: 42 teenistusest vabastatut peaksid endilt ausalt küsima ja vastama, mis oli tegelik põhjus vaktsineerimisest loobumisele. Kas mõni levinud vandenõuteooria, hirm tüsistuste ees või lihtsalt isiku õigused. Kaks esimest ei ole tänaseni kinnitust saanud. Tüsistuste puhul väga vähesel määral ja kaitseväes üldse mitte.\\nOma kirja viimases lõigus märgib Herem, et õiguste ja vabaduste piiramine toimub kaitseväes pidevalt ning kas vaktsineerimiskohustuse kehtestamine kujutab endast põhiseaduse rikkumist, see alles selgub jätkuvates kohtumenetlustes. Teatavasti on kaitsevägi vaidlustanud vaktsiinisunni õigusvastaseks tunnistanud halduskohtu otsused teises kohtuastmes.\\nKõik kaitseväe teenistujad, kes lasksid endale mullu sügisel pärast Heremi poolt vaktsineerimiskohustuse kehtestamist koroonavaktsiine süstida sisuliselt vastu tahtmist ja üksnes selleks, et säilitada võimalus teenistust jätkata, seisavad nüüd sama valiku ees. Teisisõnu tuleb neil taas otsustada, kas lasta endale süstida uus vaktsiinidoos või kaotada oma karjäär, oma perekonna sissetulek ja ka lootus (olulises osas välja teenitud) kaitseväe eripensionile.\\nToimetas Varro Vooglaid\"\n",
    "second = \"Even though the Tallinn Administrative Court has recognized forced vaccination in the defense forces as illegal, Martin Herem stressed in a letter sent to all servicemen of the defense forces that the administration of corona vaccines is still a prerequisite for continued service, i.e. all servicemen who do not allow themselves to be injected with a new vaccine dose must leave the defense forces.\\nThe head of the defense forces Martin Herem sent On October 6, a letter was distributed through the internal list of the defense forces, in which they informed all subordinates of their decision to continue to demand the administration of Covid-19 vaccines from all servicemen of the defense forces as a prerequisite for continuing their service.\\nAlthough the Tallinn Administrative Court recognized with its August 30\\xa0decision\\xa0dismissal of defense force personnel who are not subject to the vaccination obligation to be unlawful, gives In the title of his letter, Herem states that the defense force still requires proof of vaccination.\\nRight at the beginning of the letter, Herem confirms that the leadership of the defense force has no intention of abandoning the vaccination obligation. The Defense Forces has required a valid proof of vaccination against COVID-19 from its servicemen. This requirement is still valid today. Although there have been speculations that the requirement will be lifted, given the specific nature of the service of the Defense Forces, such a decision has not been taken, he writes.\\nAccording to Herem, the vaccination obligation will continue first of all for two reasons, which are communication with foreign countries (exercises, trainings, missions, foreign operations, work groups, etc.) and ensuring combat readiness at any time. Herem continues to be of the opinion that the regular injection of Covid-19 vaccines into all servicemen of the Defense Forces is a prerequisite for the combat readiness of the Defense Forces. Vaccination helps to ensure this, he states bluntly.\\nIn a letter sent to the servicemen of the Defense Forces, Herem explains at length his vision of why the Defense Force has needed and continues to need a vaccination obligation. Mainly, according to him, this is necessary so that as few people as possible are left out of service duties due to infection with Covid-19. According to Herem, the risk analysis of the defense forces still shows that requiring regular administration of Covid-19 vaccines from all servicemen is the only means by which it is possible to achieve this goal.\\nAt the same time, Herem explains that the mass administration of Covid-19 vaccines has not led to significant unwanted side effects in the defense forces.\\I have no information that anyone from the defense forces has suffered long-term or permanent damage as a result of vaccination, he writes and adds that the defense forces have administered a total of 11,047 doses of the corona vaccine in the government area, and more serious side effects have been reported back by individuals in only three cases.\\nCriticism , that the establishment of the vaccination obligation, which the Tallinn Administrative Court also called vaccine coercion, is contrary to constitutional rights, Herem does not accept, explaining that the defense force needs to be looked at more broadly. honestly ask yourself and answer what was the real reason for giving up vaccination. Either some common conspiracy theory, fear of complications or simply individual rights. The first two have not been confirmed to date. In the case of complications, very little and not at all in the defense forces.\\nIn the last paragraph of his letter, Herem notes that the restriction of rights and freedoms occurs constantly in the defense forces, and whether the establishment of the vaccination obligation constitutes a violation of the constitution will only be revealed in the ongoing court proceedings. It is known that the defense forces have challenged the administrative court that declared the forced vaccination illegal. decisions in the second court instance.\\nAll the servicemen of the defense forces, who had themselves injected with corona vaccines last fall after the introduction of the vaccination obligation by Herem essentially against their will and only in order to maintain the possibility of continuing their service, are now faced with the same choice. In other words, they have to decide again whether to have themselves injected a new dose of vaccine or lose your career, your family's income and also the hope for a (largely earned) special pension for the defense forces.\\nEdited by Varro Vooglaid\\n\"\n",
    "third = \"Despite the Tallinn Administrative Court rejecting the notion of forced vaccination being unlawful in the defense forces, Martin Herem emphasized in a letter addressed to all servicemen that the corona vaccine administration remains a vital requirement for ongoing service. In other words, servicemen who refuse the new vaccine dose injection must exit the defense forces. On October 6, the head of the defense forces, Martin Herem, distributed a letter through the internal list of the defense forces, notifying subordinates of their decision to persist in demanding Covid-19 vaccine administration from all servicemen as a condition for continuing their service. Although the Tallinn Administrative Court dismissed the dismissal of defense force personnel not obligated to vaccination on August 30, Herem's letter insists that the defense force still requires proof of vaccination. At the commencement of the letter, Herem affirms the leadership's unwavering commitment to the vaccination obligation. The Defense Forces has required a valid proof of vaccination against COVID-19 from its servicemen. This requirement is still valid today. Despite speculations about lifting the requirement, no such decision has been made due to the specific nature of the Defense Forces' service, he writes. Herem outlines two primary reasons for the continuation of the vaccination obligation: communication with foreign countries and ensuring combat readiness at any time. He believes that regular Covid-19 vaccinations are essential for combat readiness and bluntly states, Vaccination helps to ensure this. In the letter, Herem details why the Defense Force deems a vaccination obligation necessary. The goal is to minimize service duties disruption due to Covid-19 infection. Herem insists that regular administration of Covid-19 vaccines is the only means to achieve this goal, as indicated by the defense forces' risk analysis. Contrary to criticisms, Herem rejects the idea that the vaccination obligation infringes on constitutional rights. He argues that the defense force's broader perspective justifies the necessity for such measures. He challenges individuals to honestly assess the real reasons for opposing vaccination, dismissing common conspiracy theories and fears of complications, noting minimal reported side effects in the defense forces. In the closing paragraph, Herem acknowledges ongoing court proceedings and the defense forces' challenge to the administrative court's decision declaring forced vaccination illegal. Servicemen, who reluctantly received corona vaccines last fall to maintain their service, now face the decision of receiving a new dose or risking their careers, family income, and the possibility of a (largely earned) special pension for the defense forces. Edited by Varro Vooglaid.\"\n",
    "fourth = \"Amidst the vibrant tapestry of a bustling cityscape, the echoes of life intertwine with the rhythm of urban existence. In the heart of this metropolis, diverse communities coalesce, each with its narrative, a mosaic of stories that collectively shape the city's identity. From the towering skyscrapers that pierce the heavens to the intimate alleys that harbor hidden gems, every corner pulsates with the energy of human endeavor. Street vendors peddle their wares, filling the air with the aroma of exotic spices and the melody of bargaining. Parks and squares serve as communal canvases, where artists paint the aspirations and reflections of a multifaceted society. As day surrenders to night, the city transforms into a spectacle of lights, a nocturnal ballet choreographed by the ebb and flow of its denizens. Amid the ceaseless motion, moments of stillness emerge — a solitary figure reading a book on a park bench, a street musician serenading passersby, or a couple sharing a quiet conversation in a dimly lit cafe. Together, these fragments compose the symphony of urban life, a testament to the resilience, creativity, and collective spirit that define this cosmopolitan hub.\""
   ]
  },
  {
   "cell_type": "code",
   "execution_count": 14,
   "metadata": {},
   "outputs": [],
   "source": [
    "sentences1 = [first, second]\n",
    "embeddings1 = model.encode(sentences1)\n",
    "\n",
    "sentences2 = [first, third]\n",
    "embeddings2 = model.encode(sentences2)\n",
    "\n",
    "sentences3 = [first, fourth]\n",
    "embeddings3 = model.encode(sentences3)"
   ]
  },
  {
   "cell_type": "code",
   "execution_count": 15,
   "metadata": {},
   "outputs": [
    {
     "name": "stdout",
     "output_type": "stream",
     "text": [
      "Cosine Similarity Matrix:\n",
      "[[1.0000001 0.8881201]\n",
      " [0.8881201 1.0000001]]\n"
     ]
    }
   ],
   "source": [
    "vectors_matrix1 = np.array([embeddings1[0], embeddings1[1]])\n",
    "\n",
    "similarity_matrix1 = cosine_similarity(vectors_matrix1)\n",
    "\n",
    "print(\"Cosine Similarity Matrix:\")\n",
    "print(similarity_matrix1)"
   ]
  },
  {
   "cell_type": "code",
   "execution_count": 16,
   "metadata": {},
   "outputs": [
    {
     "name": "stdout",
     "output_type": "stream",
     "text": [
      "Cosine Similarity Matrix:\n",
      "[[1.0000001 0.8849305]\n",
      " [0.8849305 0.9999998]]\n"
     ]
    }
   ],
   "source": [
    "vectors_matrix2 = np.array([embeddings2[0], embeddings2[1]])\n",
    "\n",
    "similarity_matrix2 = cosine_similarity(vectors_matrix2)\n",
    "\n",
    "print(\"Cosine Similarity Matrix:\")\n",
    "print(similarity_matrix2)"
   ]
  },
  {
   "cell_type": "code",
   "execution_count": 17,
   "metadata": {},
   "outputs": [
    {
     "name": "stdout",
     "output_type": "stream",
     "text": [
      "Cosine Similarity Matrix:\n",
      "[[ 1.0000001  -0.05004426]\n",
      " [-0.05004426  0.99999964]]\n"
     ]
    }
   ],
   "source": [
    "vectors_matrix3 = np.array([embeddings3[0], embeddings3[1]])\n",
    "\n",
    "similarity_matrix3 = cosine_similarity(vectors_matrix3)\n",
    "\n",
    "print(\"Cosine Similarity Matrix:\")\n",
    "print(similarity_matrix3)"
   ]
  }
 ],
 "metadata": {
  "kernelspec": {
   "display_name": "Python 3",
   "language": "python",
   "name": "python3"
  },
  "language_info": {
   "codemirror_mode": {
    "name": "ipython",
    "version": 3
   },
   "file_extension": ".py",
   "mimetype": "text/x-python",
   "name": "python",
   "nbconvert_exporter": "python",
   "pygments_lexer": "ipython3",
   "version": "3.10.11"
  }
 },
 "nbformat": 4,
 "nbformat_minor": 2
}
