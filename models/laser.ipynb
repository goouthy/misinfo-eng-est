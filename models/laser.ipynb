{
 "cells": [
  {
   "cell_type": "markdown",
   "metadata": {},
   "source": [
    "META LASER: https://github.com/facebookresearch/LASER\n",
    "\n",
    "Notes: pretty bad at recognizing negatives."
   ]
  },
  {
   "cell_type": "code",
   "execution_count": 2,
   "metadata": {},
   "outputs": [],
   "source": [
    "# shell\n",
    "\n",
    "# export LASER=\"/mnt/c/Users/LI/Desktop/UNIWORK/MASTERS/THESIS/misinfo-eng-est/models/laser2\"\n",
    "# bash ./models/embed.sh ./models/input.txt ./models/output.bin"
   ]
  },
  {
   "cell_type": "code",
   "execution_count": 4,
   "metadata": {},
   "outputs": [],
   "source": [
    "from sklearn.metrics.pairwise import cosine_similarity\n",
    "import numpy as np\n",
    "\n",
    "dim = 1024\n",
    "X = np.fromfile(\"./output.bin\", dtype=np.float32, count=-1)                                                     \n",
    "X.resize(X.shape[0] // dim, dim)   "
   ]
  },
  {
   "cell_type": "code",
   "execution_count": 5,
   "metadata": {},
   "outputs": [
    {
     "name": "stdout",
     "output_type": "stream",
     "text": [
      "Cosine Similarity Matrix:\n",
      "[[1.         0.84908056]\n",
      " [0.84908056 1.0000001 ]]\n"
     ]
    }
   ],
   "source": [
    "# Ginger helps cure cancer. + Ingver aitab ravida vähki.\n",
    "\n",
    "vectors_matrix1 = np.array([X[0], X[1]])\n",
    "\n",
    "similarity_matrix1 = cosine_similarity(vectors_matrix1)\n",
    "\n",
    "print(\"Cosine Similarity Matrix:\")\n",
    "print(similarity_matrix1)"
   ]
  },
  {
   "cell_type": "code",
   "execution_count": 6,
   "metadata": {},
   "outputs": [
    {
     "name": "stdout",
     "output_type": "stream",
     "text": [
      "Cosine Similarity Matrix:\n",
      "[[1.        0.8227463]\n",
      " [0.8227463 1.       ]]\n"
     ]
    }
   ],
   "source": [
    "# Ginger helps cure cancer. + Ingver ei aita ravida vähki.\n",
    "\n",
    "vectors_matrix2 = np.array([X[0], X[2]])\n",
    "\n",
    "similarity_matrix2 = cosine_similarity(vectors_matrix2)\n",
    "\n",
    "print(\"Cosine Similarity Matrix:\")\n",
    "print(similarity_matrix2)"
   ]
  },
  {
   "cell_type": "markdown",
   "metadata": {},
   "source": [
    "Additional testing with paragraphs."
   ]
  },
  {
   "cell_type": "code",
   "execution_count": 24,
   "metadata": {},
   "outputs": [],
   "source": [
    "# import pandas as pd\n",
    "# snippet = pd.read_csv('../est-dataset/news_data.csv').iloc[10]['Text']\n",
    "# bash ./models/embed.sh ./models/input.txt ./models/output.bin"
   ]
  },
  {
   "cell_type": "code",
   "execution_count": 28,
   "metadata": {},
   "outputs": [],
   "source": [
    "# first paragraph from snippet\n",
    "# second, snippet translated to eng\n",
    "# third, eng snippet text shuffled\n",
    "# fourth, unrelated parangraph\n",
    "\n",
    "dim = 1024\n",
    "X = np.fromfile(\"./output.bin\", dtype=np.float32, count=-1)                                                     \n",
    "X.resize(X.shape[0] // dim, dim)   "
   ]
  },
  {
   "cell_type": "code",
   "execution_count": 29,
   "metadata": {},
   "outputs": [
    {
     "name": "stdout",
     "output_type": "stream",
     "text": [
      "Cosine Similarity Matrix:\n",
      "[[1.0000001 0.9743799]\n",
      " [0.9743799 1.0000002]]\n"
     ]
    }
   ],
   "source": [
    "vectors_matrix1 = np.array([X[0], X[1]])\n",
    "\n",
    "similarity_matrix1 = cosine_similarity(vectors_matrix1)\n",
    "\n",
    "print(\"Cosine Similarity Matrix:\")\n",
    "print(similarity_matrix1)"
   ]
  },
  {
   "cell_type": "code",
   "execution_count": 30,
   "metadata": {},
   "outputs": [
    {
     "name": "stdout",
     "output_type": "stream",
     "text": [
      "Cosine Similarity Matrix:\n",
      "[[1.0000001 0.9589337]\n",
      " [0.9589337 1.0000001]]\n"
     ]
    }
   ],
   "source": [
    "vectors_matrix2 = np.array([X[0], X[2]])\n",
    "\n",
    "similarity_matrix2 = cosine_similarity(vectors_matrix2)\n",
    "\n",
    "print(\"Cosine Similarity Matrix:\")\n",
    "print(similarity_matrix2)"
   ]
  },
  {
   "cell_type": "code",
   "execution_count": 31,
   "metadata": {},
   "outputs": [
    {
     "name": "stdout",
     "output_type": "stream",
     "text": [
      "Cosine Similarity Matrix:\n",
      "[[1.0000001  0.8660779 ]\n",
      " [0.8660779  0.99999994]]\n"
     ]
    }
   ],
   "source": [
    "vectors_matrix3 = np.array([X[0], X[3]])\n",
    "\n",
    "similarity_matrix3 = cosine_similarity(vectors_matrix3)\n",
    "\n",
    "print(\"Cosine Similarity Matrix:\")\n",
    "print(similarity_matrix3)\n",
    "\n",
    "# how???"
   ]
  }
 ],
 "metadata": {
  "kernelspec": {
   "display_name": "Python 3",
   "language": "python",
   "name": "python3"
  },
  "language_info": {
   "codemirror_mode": {
    "name": "ipython",
    "version": 3
   },
   "file_extension": ".py",
   "mimetype": "text/x-python",
   "name": "python",
   "nbconvert_exporter": "python",
   "pygments_lexer": "ipython3",
   "version": "3.10.11"
  }
 },
 "nbformat": 4,
 "nbformat_minor": 2
}
