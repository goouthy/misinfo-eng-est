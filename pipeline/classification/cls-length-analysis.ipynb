{
 "cells": [
  {
   "cell_type": "markdown",
   "metadata": {},
   "source": [
    "### TEXT LENGTH ANALYSIS"
   ]
  },
  {
   "cell_type": "code",
   "execution_count": 1,
   "metadata": {},
   "outputs": [],
   "source": [
    "import pandas as pd\n",
    "\n",
    "from transformers import ErnieMTokenizer\n",
    "\n",
    "from utils import compute_metrics, conf_mat, get_error_counts, run_test\n",
    "from plots import conf_mat_plot, len_plot"
   ]
  },
  {
   "cell_type": "code",
   "execution_count": 2,
   "metadata": {},
   "outputs": [],
   "source": [
    "model_name = 'ernie-m-large'  \n",
    "\n",
    "### Final (silver) validation results\n",
    "silver_val_df = pd.read_parquet('data/silver-annotation.parquet')\n",
    "\n",
    "### CLS2 predicting results\n",
    "cls2_prod_preds_df = pd.read_parquet(f'data/cls2-{model_name}-test-predictions.parquet')\n",
    "\n",
    "### Length analysis parameters\n",
    "cutoff = 512 # Maximum token length\n",
    "len_var = 'ErnieM Token Len'\n",
    "\n",
    "\n",
    "# Merge true labels and predictions\n",
    "final_val = pd.merge(silver_val_df, cls2_prod_preds_df, on='EstText Index').rename(columns={'Label': 'True Label'})"
   ]
  },
  {
   "cell_type": "code",
   "execution_count": 3,
   "metadata": {},
   "outputs": [
    {
     "name": "stderr",
     "output_type": "stream",
     "text": [
      "Token indices sequence length is longer than the specified maximum sequence length for this model (1257 > 514). Running this sequence through the model will result in indexing errors\n"
     ]
    },
    {
     "data": {
      "text/plain": [
       "count     300.000000\n",
       "mean      858.920000\n",
       "std       868.240777\n",
       "min        39.000000\n",
       "25%       270.250000\n",
       "50%       552.000000\n",
       "75%      1261.250000\n",
       "max      8852.000000\n",
       "Name: ErnieM Token Len, dtype: float64"
      ]
     },
     "execution_count": 3,
     "metadata": {},
     "output_type": "execute_result"
    }
   ],
   "source": [
    "# Tokenizing the texts to calculate token length without truncation\n",
    "tokenizer = ErnieMTokenizer.from_pretrained('susnato/ernie-m-large_pytorch')\n",
    "\n",
    "def tokenlen(text):\n",
    "    tokens = tokenizer(text, add_special_tokens=True, truncation=False)  \n",
    "    return len(tokens['input_ids'])\n",
    "\n",
    "final_val[len_var] = final_val['Text'].apply(tokenlen)\n",
    "\n",
    "final_val[len_var].describe()"
   ]
  },
  {
   "cell_type": "code",
   "execution_count": 4,
   "metadata": {},
   "outputs": [],
   "source": [
    "final_val_shorter = final_val[final_val[len_var] <= cutoff]\n",
    "final_val_longer = final_val[final_val[len_var] > cutoff]\n",
    "\n",
    "# print('Shorter texts:')\n",
    "# compute_metrics(final_val_shorter, 0)\n",
    "\n",
    "# print('Longer texts:')\n",
    "# compute_metrics(final_val_longer, 0)"
   ]
  },
  {
   "cell_type": "code",
   "execution_count": 11,
   "metadata": {},
   "outputs": [
    {
     "name": "stdout",
     "output_type": "stream",
     "text": [
      "Count above cutoff (512): 156 (52.0%)\n",
      "Count below or equal to cutoff (512): 144 (48.0%)\n",
      "Median truncated length for articles above cutoff: 715.50\n"
     ]
    },
    {
     "data": {
      "image/png": "[encoded data removed]",
      "text/plain": [
       "<Figure size 600x500 with 1 Axes>"
      ]
     },
     "metadata": {},
     "output_type": "display_data"
    }
   ],
   "source": [
    "len_plot(final_val, len_var, cutoff, 4000, output=\"toklen\")"
   ]
  },
  {
   "cell_type": "code",
   "execution_count": 6,
   "metadata": {},
   "outputs": [
    {
     "name": "stdout",
     "output_type": "stream",
     "text": [
      "Shorter articles.\n",
      "Confusion Matrix:\n",
      "                 Predicted 0    Predicted 1  \n",
      "Actual 0       | 131            2              \n",
      "Actual 1       | 7              4              \n",
      "\n",
      "Longer articles.\n",
      "Confusion Matrix:\n",
      "                 Predicted 0    Predicted 1  \n",
      "Actual 0       | 24             29             \n",
      "Actual 1       | 0              103            \n"
     ]
    }
   ],
   "source": [
    "print(\"Shorter articles.\")\n",
    "conf_mat(final_val_shorter)\n",
    "\n",
    "print(\"\\nLonger articles.\")\n",
    "conf_mat(final_val_longer)"
   ]
  },
  {
   "cell_type": "markdown",
   "metadata": {},
   "source": [
    "Testing the difference of length between classes"
   ]
  },
  {
   "cell_type": "code",
   "execution_count": 7,
   "metadata": {},
   "outputs": [
    {
     "name": "stdout",
     "output_type": "stream",
     "text": [
      "Class Distribution: Chi-square statistic = 105.88352796279366, df = 1, p-value = 7.819894383570089e-25\n"
     ]
    }
   ],
   "source": [
    "count_shorter = final_val_shorter['True Label'].value_counts()\n",
    "count_longer = final_val_longer['True Label'].value_counts()\n",
    "\n",
    "# Contingency table for actual 0s and 1s\n",
    "class_table = [\n",
    "    [count_shorter.get(0, 0), count_longer.get(0, 0)],  \n",
    "    [count_shorter.get(1, 0), count_longer.get(1, 0)]   \n",
    "]\n",
    "\n",
    "run_test(class_table, error_type=\"Class Distribution\")"
   ]
  },
  {
   "cell_type": "markdown",
   "metadata": {},
   "source": [
    "Testing the difference of length in Type I and Type II errors"
   ]
  },
  {
   "cell_type": "code",
   "execution_count": 8,
   "metadata": {},
   "outputs": [
    {
     "name": "stdout",
     "output_type": "stream",
     "text": [
      "Type I Error: Fisher's Exact Test p-value = 3.555834014163273e-17 (no test statistic or df)\n",
      "Type II Error: Fisher's Exact Test p-value = 8.020053058361259e-09 (no test statistic or df)\n"
     ]
    }
   ],
   "source": [
    "TN_shorter, FP_shorter, FN_shorter, TP_shorter = get_error_counts(final_val_shorter['True Label'], final_val_shorter['Prediction'])\n",
    "TN_longer, FP_longer, FN_longer, TP_longer = get_error_counts(final_val_longer['True Label'], final_val_longer['Prediction'])\n",
    "\n",
    "# Contingency tables for Type I and Type II errors\n",
    "type_I_table = [[TN_shorter, FP_shorter], [TN_longer, FP_longer]]\n",
    "type_II_table = [[FN_shorter, TP_shorter], [FN_longer, TP_longer]]\n",
    "\n",
    "run_test(type_I_table, error_type=\"Type I Error\")\n",
    "run_test(type_II_table, error_type=\"Type II Error\")"
   ]
  }
 ],
 "metadata": {
  "kernelspec": {
   "display_name": "Python 3",
   "language": "python",
   "name": "python3"
  },
  "language_info": {
   "codemirror_mode": {
    "name": "ipython",
    "version": 3
   },
   "file_extension": ".py",
   "mimetype": "text/x-python",
   "name": "python",
   "nbconvert_exporter": "python",
   "pygments_lexer": "ipython3",
   "version": "3.10.11"
  }
 },
 "nbformat": 4,
 "nbformat_minor": 2
}
